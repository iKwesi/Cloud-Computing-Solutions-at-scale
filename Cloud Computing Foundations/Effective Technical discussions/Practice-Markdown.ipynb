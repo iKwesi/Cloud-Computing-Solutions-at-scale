{
 "cells": [
  {
   "cell_type": "markdown",
   "metadata": {},
   "source": [
    "## Practice Markdown"
   ]
  },
  {
   "cell_type": "markdown",
   "metadata": {},
   "source": [
    "This notebook lets you experiment with producing repeatable technical documentation.  Use this notebook to do the following actions:\n",
    "\n",
    "* Create a code cell and print a Python Hello World statement:  `print(\"hello world\")`\n",
    "* Create a Markdown Cell and add a Title using `#` and then a statement using plain text.  You can looks at the source code for this cell to get an idea of how to use Markdown.\n",
    "* Take some ideas from the [Master Markdown Github Guide](https://guides.github.com/features/mastering-markdown/) and implement them here.\n",
    "* Download this notebook as a `.ipynb` file and check into a Github Project.  You can [see an example here](https://github.com/noahgift/duke-coursera-ccf-lab1/blob/main/Practice-Markdown.ipynb).\n",
    "* Open your notebook in Google Colab and save it into the same Github Project.  You can [see an example here](https://github.com/noahgift/duke-coursera-ccf-lab1/blob/main/Practice_Markdown_with_colab.ipynb).\n"
   ]
  },
  {
   "cell_type": "code",
   "execution_count": 3,
   "metadata": {},
   "outputs": [
    {
     "name": "stdout",
     "output_type": "stream",
     "text": [
      "hello world\n"
     ]
    }
   ],
   "source": [
    "def greeting():\n",
    "    print(f\"hello world\")\n",
    "    \n",
    "greeting()"
   ]
  },
  {
   "cell_type": "markdown",
   "metadata": {},
   "source": [
    "# Creating Markdowns in Jupyter\n",
    "\n",
    "Using jupyter notebooks to practice repeatable documentation gives can be used to build a portfolio."
   ]
  },
  {
   "cell_type": "markdown",
   "metadata": {},
   "source": [
    "## Cloud Computing Foundations\n",
    "\n",
    "**Effective Technical Discussions ** involves critical thinking.\n",
    "> This course is offered by Duke University on Coursera\n",
    "\n",
    "This notebook will be pushed to `github` and also run in `google colab`"
   ]
  },
  {
   "cell_type": "markdown",
   "metadata": {},
   "source": [
    "This is a link to the main heading above: [Practice Markdown](https://unqqihdm.labs.coursera.org/notebooks/Practice-Markdown.ipynb#Practice-Markdown)\n",
    "\n",
    "Here is a list of popular cloud frameworks\n",
    "* Amazon Web service (AWS)\n",
    "* Google Cloud Platform\n",
    "* Microsoft Azure\n",
    "\n",
    "Here is the list of tasks to be performed:\n",
    "- [x] Open Jupyter\n",
    "- [x] Create code cell and insert some code\n",
    "- [x] Add markdown\n",
    "- [ ] Download notebook as `.ipynb` file and check into Github project\n",
    "- [ ] Open notebook in colab\n",
    "\n",
    "👍 This looks great \\\n",
    "👎 This looks bad \\\n",
    "👹 This is really bad \\\n",
    "🐍 Python is an amazing programming language"
   ]
  },
  {
   "cell_type": "code",
   "execution_count": null,
   "metadata": {},
   "outputs": [],
   "source": []
  }
 ],
 "metadata": {
  "kernelspec": {
   "display_name": "Python 3",
   "language": "python",
   "name": "python3"
  },
  "language_info": {
   "codemirror_mode": {
    "name": "ipython",
    "version": 3
   },
   "file_extension": ".py",
   "mimetype": "text/x-python",
   "name": "python",
   "nbconvert_exporter": "python",
   "pygments_lexer": "ipython3",
   "version": "3.7.6"
  }
 },
 "nbformat": 4,
 "nbformat_minor": 4
}
